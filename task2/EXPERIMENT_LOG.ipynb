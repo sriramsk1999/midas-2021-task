{
 "cells": [
  {
   "cell_type": "markdown",
   "metadata": {},
   "source": [
    "Part I - Use this dataset\n",
    "(<https://www.dropbox.com/s/pan6mutc5xj5kj0/trainPart1.zip>) to train a\n",
    "CNN. Use no other data source or pretrained networks, and explain your\n",
    "design choices during preprocessing, model building and training. Also,\n",
    "cite the sources you used to borrow techniques. A test set will be\n",
    "provided later to judge the performance of your classifier. Please save\n",
    "your model checkpoints."
   ]
  },
  {
   "cell_type": "code",
   "execution_count": null,
   "metadata": {},
   "outputs": [],
   "source": [
    "def foo(x):\n",
    "    if x>0:\n",
    "        return x+1\n",
    "    else:\n",
    "        return x-1\n",
    "foo(5)\n"
   ]
  },
  {
   "cell_type": "markdown",
   "metadata": {},
   "source": [
    "Dataset Overview\n",
    "\n",
    "The dataset consists of 62 classes, with 40 samples of each sample.\n",
    "Classes - \\[0-9, A-Z, a-z\\] Total number of images - 62\\*40 = 2480\n",
    "images"
   ]
  }
 ],
 "nbformat": 4,
 "nbformat_minor": 5,
 "metadata": {}
}
